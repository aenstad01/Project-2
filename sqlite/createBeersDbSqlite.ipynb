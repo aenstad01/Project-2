{
 "cells": [
  {
   "cell_type": "markdown",
   "metadata": {},
   "source": [
    "# Project 3 - Group 7\n",
    "Barbara MacGregor, Matt Russell, Amanda Enstad and Chi Tran"
   ]
  },
  {
   "cell_type": "markdown",
   "metadata": {},
   "source": [
    "## Import dependencies"
   ]
  },
  {
   "cell_type": "code",
   "execution_count": null,
   "metadata": {},
   "outputs": [],
   "source": [
    "import pandas as pd\n",
    "import sqlalchemy\n",
    "from sqlalchemy.ext.automap import automap_base\n",
    "from sqlalchemy.orm import Session\n",
    "from sqlalchemy import create_engine\n",
    "import sqlite3"
   ]
  },
  {
   "cell_type": "markdown",
   "metadata": {},
   "source": [
    "## Extract\n",
    "### Read in the raw excel files"
   ]
  },
  {
   "cell_type": "code",
   "execution_count": null,
   "metadata": {},
   "outputs": [],
   "source": [
    "beerCsv = '../Resources/Data/beers.csv'\n",
    "brewCsv = '../Resources/Data/breweries.csv'"
   ]
  },
  {
   "cell_type": "code",
   "execution_count": null,
   "metadata": {},
   "outputs": [],
   "source": [
    "beerDf = pd.read_csv(beerCsv)\n",
    "beerDf = beerDf.drop(['Unnamed: 0'],axis = 1)\n",
    "beerDf.head()"
   ]
  },
  {
   "cell_type": "code",
   "execution_count": null,
   "metadata": {
    "scrolled": true
   },
   "outputs": [],
   "source": [
    "brewDf = pd.read_csv(brewCsv)\n",
    "brewDf.head()"
   ]
  },
  {
   "cell_type": "markdown",
   "metadata": {},
   "source": [
    "## Transform\n",
    "### Rename columns"
   ]
  },
  {
   "cell_type": "code",
   "execution_count": null,
   "metadata": {
    "scrolled": true
   },
   "outputs": [],
   "source": [
    "# Rename columns in beerDf\n",
    "# abv: The alcoholic content by volume with 0 being no alcohol and 1 being pure alcohol.\n",
    "# ibu: International bittering units, which describe how bitter a drink is.\n",
    "# id: beer unique id\n",
    "# brewery_id: Unique identifier for brewery that produces this beer; can use to join with brewery info.\n",
    "\n",
    "beerDf = beerDf.rename(columns={\"id\": \"beer_id\", \"name\": \"beer_name\", \"style\": \"beer_style\" })\n",
    "colNames = ['beer_id','beer_name','beer_style','brewery_id','abv','ibu','ounces']\n",
    "beerDf = beerDf.reindex(columns=colNames)\n",
    "beerDf.head()"
   ]
  },
  {
   "cell_type": "code",
   "execution_count": null,
   "metadata": {},
   "outputs": [],
   "source": [
    "# Rename columns in brewDf\n",
    "brewDf = brewDf.rename(columns={\"Unnamed: 0\": \"brewery_id\", \"name\": \"brewery_name\" })\n",
    "brewDf.head()"
   ]
  },
  {
   "cell_type": "markdown",
   "metadata": {},
   "source": [
    "### Visual data inspections:\n",
    "Notes: running cells in this section is optional\n",
    "#### Observations:\n",
    "* there are \"Nan\" entries in abv and ibu \n",
    "* two entries for beer style per beer: American Double / Imperial IPA (important for filtering)\n",
    "* 558 unique brewery_id in beerDf but 551 unique brewery_id in brewDf"
   ]
  },
  {
   "cell_type": "code",
   "execution_count": null,
   "metadata": {},
   "outputs": [],
   "source": [
    "# print out all of unique values in each columns in beerDf dataframe\n",
    "# visually inspect to identify any NA or inconsistencies\n",
    "\n",
    "colNames = list(beerDf.columns)\n",
    "for col in colNames:\n",
    "    print(col)\n",
    "    print(beerDf[col].unique())\n",
    "#     print(*beerDf[col].unique(),sep ='\\n')\n",
    "    print('Number of element of Unique Values: ')\n",
    "    print(len(beerDf[col].unique()))\n",
    "    print('-----------')\n"
   ]
  },
  {
   "cell_type": "code",
   "execution_count": null,
   "metadata": {},
   "outputs": [],
   "source": [
    "# print out all of unique values in each columns in breweries Dataframe\n",
    "# visually inspect to identify any NA or inconsistencies \n",
    "\n",
    "colNames = list(brewDf.columns)\n",
    "for col in colNames:\n",
    "    print(col)\n",
    "    print(brewDf[col].unique())\n",
    "#     print(*beerDf[col].unique(),sep ='\\n')\n",
    "    print('Number of element of Unique Values: ')\n",
    "    print(len(brewDf[col].unique()))\n",
    "    print('-----------')"
   ]
  },
  {
   "cell_type": "markdown",
   "metadata": {},
   "source": [
    "## EXPORT\n",
    "export clean csv for sqlite file"
   ]
  },
  {
   "cell_type": "code",
   "execution_count": null,
   "metadata": {},
   "outputs": [],
   "source": [
    "beerDf.to_csv('beers.csv', index=False,)\n",
    "brewDf.to_csv('breweries.csv', index=False,)"
   ]
  },
  {
   "cell_type": "markdown",
   "metadata": {},
   "source": [
    "## Create SQLITE\n",
    "create sqlLite file"
   ]
  },
  {
   "cell_type": "code",
   "execution_count": null,
   "metadata": {},
   "outputs": [],
   "source": [
    "#  try sqlite3\n",
    "conn = sqlite3.connect('beersDb.sqlite') \n",
    "c = conn.cursor()"
   ]
  },
  {
   "cell_type": "code",
   "execution_count": null,
   "metadata": {
    "scrolled": true
   },
   "outputs": [],
   "source": [
    "# colNames = ['beer_id','beer_name','beer_style','brewery_id','abv','ibu','ounces']\n",
    "c.execute('''CREATE TABLE beers\n",
    "             ([beer_id] INTEGER PRIMARY KEY,[beer_name] text, [beer_style] text,[brewery_id] INTERGER, [abv] float ,[ibu] float ,[ounces] float )''')\n",
    "\n",
    "c.execute('''CREATE TABLE breweries\n",
    "             ([brewery_id] INTEGER PRIMARY KEY,[brewery_name] text, [city] text,[state] text)''')\n",
    "\n",
    "conn.commit()"
   ]
  },
  {
   "cell_type": "code",
   "execution_count": null,
   "metadata": {},
   "outputs": [],
   "source": [
    "beerDf = pd.read_csv('beers.csv')\n",
    "brewDf = pd.read_csv('breweries.csv')"
   ]
  },
  {
   "cell_type": "code",
   "execution_count": null,
   "metadata": {},
   "outputs": [],
   "source": [
    "# Insert the values from the csv file into the table 'beers'\n",
    "beerDf.to_sql('beers', conn, if_exists='append', index = False)  "
   ]
  },
  {
   "cell_type": "code",
   "execution_count": null,
   "metadata": {},
   "outputs": [],
   "source": [
    "# Insert the values from the csv file into the table 'breweries'\n",
    "brewDf.to_sql('breweries', conn, if_exists='append', index = False)  "
   ]
  },
  {
   "cell_type": "markdown",
   "metadata": {},
   "source": [
    "###  Check sqlite database"
   ]
  },
  {
   "cell_type": "code",
   "execution_count": null,
   "metadata": {},
   "outputs": [],
   "source": [
    "# Check to see if db is created properly\n",
    "engine = create_engine(\"sqlite:///beersDb.sqlite\")"
   ]
  },
  {
   "cell_type": "code",
   "execution_count": null,
   "metadata": {},
   "outputs": [],
   "source": [
    "# Declare a Base using `automap_base()`\n",
    "Base = automap_base()\n",
    "Base.prepare(engine, reflect=True)"
   ]
  },
  {
   "cell_type": "code",
   "execution_count": null,
   "metadata": {},
   "outputs": [],
   "source": [
    "# Print all of the classes mapped to the Base\n",
    "Base.classes.keys()"
   ]
  },
  {
   "cell_type": "code",
   "execution_count": null,
   "metadata": {},
   "outputs": [],
   "source": [
    "pd.read_sql_query('select * from beers', con=engine)"
   ]
  },
  {
   "cell_type": "code",
   "execution_count": null,
   "metadata": {},
   "outputs": [],
   "source": [
    "pd.read_sql_query('select * from breweries', con=engine)"
   ]
  }
 ],
 "metadata": {
  "kernelspec": {
   "display_name": "Python 3",
   "language": "python",
   "name": "python3"
  },
  "language_info": {
   "codemirror_mode": {
    "name": "ipython",
    "version": 3
   },
   "file_extension": ".py",
   "mimetype": "text/x-python",
   "name": "python",
   "nbconvert_exporter": "python",
   "pygments_lexer": "ipython3",
   "version": "3.6.10"
  }
 },
 "nbformat": 4,
 "nbformat_minor": 4
}
